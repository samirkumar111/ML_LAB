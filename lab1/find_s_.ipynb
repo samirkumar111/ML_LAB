{
 "cells": [
  {
   "cell_type": "code",
   "execution_count": 12,
   "metadata": {},
   "outputs": [
    {
     "name": "stdout",
     "output_type": "stream",
     "text": [
      "      Time Weather Temperature Company Humidity    Wind Goes\n",
      "0  Morning   Sunny        Warm     Yes     Mild  Strong  Yes\n",
      "1  Evening   Rainy        Cold      No     Mild  Normal   No\n",
      "2  Morning   Sunny    Moderate     Yes   Normal  Normal  Yes\n",
      "3  Evening   Sunny        Cold     Yes     High  Strong  Yes \n",
      "\n",
      "\n",
      " The attributes are:  [['Morning' 'Sunny' 'Warm' 'Yes' 'Mild' 'Strong']\n",
      " ['Evening' 'Rainy' 'Cold' 'No' 'Mild' 'Normal']\n",
      " ['Morning' 'Sunny' 'Moderate' 'Yes' 'Normal' 'Normal']\n",
      " ['Evening' 'Sunny' 'Cold' 'Yes' 'High' 'Strong']]\n",
      "\n",
      " The target is:  ['Yes' 'No' 'Yes' 'Yes']\n",
      "\n",
      " The final hypothesis is: ['?' 'Sunny' '?' 'Yes' '?' '?']\n"
     ]
    }
   ],
   "source": [
    "import pandas as pd\n",
    "import numpy as np\n",
    " \n",
    "#to read the data in the csv file\n",
    "data = pd.read_csv(\"enjoysport.csv\")\n",
    "print(data,\"\\n\")\n",
    " \n",
    "#making an array of all the attributes\n",
    "d = np.array(data)[:,:-1]\n",
    "print(\"\\n The attributes are: \",d)\n",
    " \n",
    "#segragating the target that has positive and negative examples\n",
    "target = np.array(data)[:,-1]\n",
    "print(\"\\n The target is: \",target)\n",
    " \n",
    "#training function to implement find-s algorithm\n",
    "def train(c,t):\n",
    "    for i, val in enumerate(t):\n",
    "        if val == \"Yes\":\n",
    "            specific_hypothesis = c[i].copy()\n",
    "            break\n",
    "             \n",
    "    for i, val in enumerate(c):\n",
    "        if t[i] == \"Yes\":\n",
    "            for x in range(len(specific_hypothesis)):\n",
    "                if val[x] != specific_hypothesis[x]:\n",
    "                    specific_hypothesis[x] = '?'\n",
    "                else:\n",
    "                    pass\n",
    "                 \n",
    "    return specific_hypothesis\n",
    " \n",
    "#obtaining the final hypothesis\n",
    "print(\"\\n The final hypothesis is:\",train(d,target))"
   ]
  },
  {
   "cell_type": "code",
   "execution_count": null,
   "metadata": {},
   "outputs": [],
   "source": []
  },
  {
   "cell_type": "code",
   "execution_count": null,
   "metadata": {},
   "outputs": [],
   "source": []
  },
  {
   "cell_type": "code",
   "execution_count": null,
   "metadata": {},
   "outputs": [],
   "source": []
  },
  {
   "cell_type": "code",
   "execution_count": null,
   "metadata": {},
   "outputs": [],
   "source": []
  },
  {
   "cell_type": "code",
   "execution_count": null,
   "metadata": {},
   "outputs": [],
   "source": []
  }
 ],
 "metadata": {
  "kernelspec": {
   "display_name": "Python 3",
   "language": "python",
   "name": "python3"
  },
  "language_info": {
   "codemirror_mode": {
    "name": "ipython",
    "version": 3
   },
   "file_extension": ".py",
   "mimetype": "text/x-python",
   "name": "python",
   "nbconvert_exporter": "python",
   "pygments_lexer": "ipython3",
   "version": "3.7.3"
  }
 },
 "nbformat": 4,
 "nbformat_minor": 2
}
